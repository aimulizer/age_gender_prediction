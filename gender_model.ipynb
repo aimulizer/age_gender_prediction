{
 "cells": [
  {
   "cell_type": "code",
   "execution_count": 7,
   "metadata": {},
   "outputs": [],
   "source": [
    "import tensorflow as tf\n",
    "from tensorflow.keras.models import Sequential\n",
    "from tensorflow.keras.layers import Dense,Dropout,Activation,Flatten,Conv2D,MaxPooling2D\n",
    "import pickle"
   ]
  },
  {
   "cell_type": "code",
   "execution_count": 8,
   "metadata": {},
   "outputs": [],
   "source": [
    "x=pickle.load(open(\"gender_data.pickle\",\"rb\"))\n",
    "y=pickle.load(open(\"gender_target.pickle\",\"rb\"))"
   ]
  },
  {
   "cell_type": "code",
   "execution_count": 9,
   "metadata": {},
   "outputs": [],
   "source": [
    "x=x/225.0"
   ]
  },
  {
   "cell_type": "code",
   "execution_count": 10,
   "metadata": {},
   "outputs": [
    {
     "data": {
      "text/plain": [
       "(74, 70, 70, 1)"
      ]
     },
     "execution_count": 10,
     "metadata": {},
     "output_type": "execute_result"
    }
   ],
   "source": [
    "model=Sequential()\n",
    "x.shape"
   ]
  },
  {
   "cell_type": "code",
   "execution_count": 11,
   "metadata": {},
   "outputs": [
    {
     "name": "stdout",
     "output_type": "stream",
     "text": [
      "Train on 66 samples, validate on 8 samples\n",
      "Epoch 1/7\n",
      "66/66 [==============================] - 2s 26ms/sample - loss: 1.3150 - acc: 0.4697 - val_loss: 0.6974 - val_acc: 0.5000\n",
      "Epoch 2/7\n",
      "66/66 [==============================] - 1s 18ms/sample - loss: 0.6932 - acc: 0.5152 - val_loss: 0.6690 - val_acc: 0.7500\n",
      "Epoch 3/7\n",
      "66/66 [==============================] - 2s 25ms/sample - loss: 0.5778 - acc: 0.8030 - val_loss: 0.8096 - val_acc: 0.5000\n",
      "Epoch 4/7\n",
      "66/66 [==============================] - 1s 18ms/sample - loss: 0.3731 - acc: 0.8182 - val_loss: 0.7204 - val_acc: 0.7500\n",
      "Epoch 5/7\n",
      "66/66 [==============================] - 1s 18ms/sample - loss: 0.2747 - acc: 0.9242 - val_loss: 0.3717 - val_acc: 0.8750\n",
      "Epoch 6/7\n",
      "66/66 [==============================] - 1s 18ms/sample - loss: 0.4887 - acc: 0.8636 - val_loss: 0.6096 - val_acc: 0.8750\n",
      "Epoch 7/7\n",
      "66/66 [==============================] - 1s 19ms/sample - loss: 0.1714 - acc: 0.9242 - val_loss: 0.8375 - val_acc: 0.8750\n"
     ]
    },
    {
     "data": {
      "text/plain": [
       "<tensorflow.python.keras.callbacks.History at 0x7f7dbb4b9470>"
      ]
     },
     "execution_count": 11,
     "metadata": {},
     "output_type": "execute_result"
    }
   ],
   "source": [
    "model.add(Conv2D(64,(3,3),input_shape=(70,70,1)))\n",
    "model.add(Activation('relu'))\n",
    "model.add(MaxPooling2D(pool_size=(2,2)))\n",
    "\n",
    "model.add(Conv2D(64,(3,3)))\n",
    "model.add(Activation('relu'))\n",
    "model.add(MaxPooling2D(pool_size=(2,2)))\n",
    "\n",
    "model.add(Flatten())\n",
    "\n",
    "model.add(Dense(64))\n",
    "model.add(Dense(1))\n",
    "model.add(Activation('sigmoid'))\n",
    "\n",
    "model.compile(loss='binary_crossentropy',\n",
    "              optimizer='adam',\n",
    "              metrics=['accuracy'])\n",
    "\n",
    "model.fit(x,y,batch_size=1,\n",
    "          epochs=7,\n",
    "          validation_split=0.1)"
   ]
  },
  {
   "cell_type": "code",
   "execution_count": 12,
   "metadata": {},
   "outputs": [],
   "source": [
    "model.save(\"genderfinal.model\")"
   ]
  },
  {
   "cell_type": "code",
   "execution_count": 13,
   "metadata": {},
   "outputs": [],
   "source": [
    "import cv2\n",
    "img=cv2.imread(\"test.jpg\")\n"
   ]
  },
  {
   "cell_type": "code",
   "execution_count": 15,
   "metadata": {},
   "outputs": [
    {
     "data": {
      "text/plain": [
       "array([[1.2261975e-05]], dtype=float32)"
      ]
     },
     "execution_count": 15,
     "metadata": {},
     "output_type": "execute_result"
    }
   ],
   "source": [
    "classifier=cv2.CascadeClassifier(\"haarcascade_frontalface_default.xml\")\n",
    "gray=cv2.cvtColor(img,cv2.COLOR_BGR2GRAY)\n",
    "face=classifier.detectMultiScale(img,1.3,5)\n",
    "for x,y,w,h in face:\n",
    "    new=cv2.resize(gray[y:y+h,x:x+w],(70,70))\n",
    "    \n",
    "new=new.reshape(-1,70,70,1)\n",
    "    \n",
    "ypred=model.predict(new)\n",
    "ypred\n"
   ]
  },
  {
   "cell_type": "code",
   "execution_count": null,
   "metadata": {},
   "outputs": [],
   "source": []
  }
 ],
 "metadata": {
  "kernelspec": {
   "display_name": "Python 3",
   "language": "python",
   "name": "python3"
  },
  "language_info": {
   "codemirror_mode": {
    "name": "ipython",
    "version": 3
   },
   "file_extension": ".py",
   "mimetype": "text/x-python",
   "name": "python",
   "nbconvert_exporter": "python",
   "pygments_lexer": "ipython3",
   "version": "3.7.3"
  }
 },
 "nbformat": 4,
 "nbformat_minor": 2
}
